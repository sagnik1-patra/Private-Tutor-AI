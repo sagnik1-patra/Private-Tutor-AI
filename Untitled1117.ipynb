{
 "cells": [
  {
   "cell_type": "code",
   "execution_count": 1,
   "id": "f7182ff9-03dd-4d67-8b85-776b8e0dab4c",
   "metadata": {},
   "outputs": [
    {
     "name": "stdout",
     "output_type": "stream",
     "text": [
      "Requirement already satisfied: transformers in c:\\users\\sagni\\appdata\\local\\programs\\python\\python311\\lib\\site-packages (4.52.4)\n",
      "Requirement already satisfied: torch in c:\\users\\sagni\\appdata\\local\\programs\\python\\python311\\lib\\site-packages (2.6.0)\n",
      "Requirement already satisfied: sympy in c:\\users\\sagni\\appdata\\local\\programs\\python\\python311\\lib\\site-packages (1.13.1)\n",
      "Requirement already satisfied: pint in c:\\users\\sagni\\appdata\\local\\programs\\python\\python311\\lib\\site-packages (0.24.4)\n",
      "Requirement already satisfied: numpy in c:\\users\\sagni\\appdata\\local\\programs\\python\\python311\\lib\\site-packages (1.24.3)\n",
      "Requirement already satisfied: filelock in c:\\users\\sagni\\appdata\\local\\programs\\python\\python311\\lib\\site-packages (from transformers) (3.17.0)\n",
      "Requirement already satisfied: huggingface-hub<1.0,>=0.30.0 in c:\\users\\sagni\\appdata\\local\\programs\\python\\python311\\lib\\site-packages (from transformers) (0.32.3)\n",
      "Requirement already satisfied: packaging>=20.0 in c:\\users\\sagni\\appdata\\local\\programs\\python\\python311\\lib\\site-packages (from transformers) (24.2)\n",
      "Requirement already satisfied: pyyaml>=5.1 in c:\\users\\sagni\\appdata\\local\\programs\\python\\python311\\lib\\site-packages (from transformers) (6.0.2)\n",
      "Requirement already satisfied: regex!=2019.12.17 in c:\\users\\sagni\\appdata\\local\\programs\\python\\python311\\lib\\site-packages (from transformers) (2024.11.6)\n",
      "Requirement already satisfied: requests in c:\\users\\sagni\\appdata\\local\\programs\\python\\python311\\lib\\site-packages (from transformers) (2.32.3)\n",
      "Requirement already satisfied: tokenizers<0.22,>=0.21 in c:\\users\\sagni\\appdata\\local\\programs\\python\\python311\\lib\\site-packages (from transformers) (0.21.1)\n",
      "Requirement already satisfied: safetensors>=0.4.3 in c:\\users\\sagni\\appdata\\local\\programs\\python\\python311\\lib\\site-packages (from transformers) (0.5.3)\n",
      "Requirement already satisfied: tqdm>=4.27 in c:\\users\\sagni\\appdata\\local\\programs\\python\\python311\\lib\\site-packages (from transformers) (4.67.1)\n",
      "Requirement already satisfied: fsspec>=2023.5.0 in c:\\users\\sagni\\appdata\\local\\programs\\python\\python311\\lib\\site-packages (from huggingface-hub<1.0,>=0.30.0->transformers) (2025.3.0)\n",
      "Requirement already satisfied: typing-extensions>=3.7.4.3 in c:\\users\\sagni\\appdata\\local\\programs\\python\\python311\\lib\\site-packages (from huggingface-hub<1.0,>=0.30.0->transformers) (4.12.2)\n",
      "Requirement already satisfied: networkx in c:\\users\\sagni\\appdata\\local\\programs\\python\\python311\\lib\\site-packages (from torch) (3.4.2)\n",
      "Requirement already satisfied: jinja2 in c:\\users\\sagni\\appdata\\local\\programs\\python\\python311\\lib\\site-packages (from torch) (3.1.6)\n",
      "Requirement already satisfied: mpmath<1.4,>=1.1.0 in c:\\users\\sagni\\appdata\\local\\programs\\python\\python311\\lib\\site-packages (from sympy) (1.3.0)\n",
      "Requirement already satisfied: platformdirs>=2.1.0 in c:\\users\\sagni\\appdata\\local\\programs\\python\\python311\\lib\\site-packages (from pint) (4.3.8)\n",
      "Requirement already satisfied: flexcache>=0.3 in c:\\users\\sagni\\appdata\\local\\programs\\python\\python311\\lib\\site-packages (from pint) (0.3)\n",
      "Requirement already satisfied: flexparser>=0.4 in c:\\users\\sagni\\appdata\\local\\programs\\python\\python311\\lib\\site-packages (from pint) (0.4)\n",
      "Requirement already satisfied: colorama in c:\\users\\sagni\\appdata\\local\\programs\\python\\python311\\lib\\site-packages (from tqdm>=4.27->transformers) (0.4.6)\n",
      "Requirement already satisfied: MarkupSafe>=2.0 in c:\\users\\sagni\\appdata\\local\\programs\\python\\python311\\lib\\site-packages (from jinja2->torch) (3.0.2)\n",
      "Requirement already satisfied: charset-normalizer<4,>=2 in c:\\users\\sagni\\appdata\\local\\programs\\python\\python311\\lib\\site-packages (from requests->transformers) (3.4.1)\n",
      "Requirement already satisfied: idna<4,>=2.5 in c:\\users\\sagni\\appdata\\local\\programs\\python\\python311\\lib\\site-packages (from requests->transformers) (3.7)\n",
      "Requirement already satisfied: urllib3<3,>=1.21.1 in c:\\users\\sagni\\appdata\\local\\programs\\python\\python311\\lib\\site-packages (from requests->transformers) (2.3.0)\n",
      "Requirement already satisfied: certifi>=2017.4.17 in c:\\users\\sagni\\appdata\\local\\programs\\python\\python311\\lib\\site-packages (from requests->transformers) (2025.1.31)\n"
     ]
    }
   ],
   "source": [
    "!pip install transformers torch sympy pint numpy\n"
   ]
  },
  {
   "cell_type": "code",
   "execution_count": 2,
   "id": "09a818c6-31ef-481f-a982-5a546c5239b5",
   "metadata": {},
   "outputs": [
    {
     "name": "stderr",
     "output_type": "stream",
     "text": [
      "C:\\Users\\sagni\\AppData\\Local\\Programs\\Python\\Python311\\Lib\\site-packages\\tqdm\\auto.py:21: TqdmWarning: IProgress not found. Please update jupyter and ipywidgets. See https://ipywidgets.readthedocs.io/en/stable/user_install.html\n",
      "  from .autonotebook import tqdm as notebook_tqdm\n",
      "C:\\Users\\sagni\\AppData\\Local\\Programs\\Python\\Python311\\Lib\\site-packages\\huggingface_hub\\file_download.py:143: UserWarning: `huggingface_hub` cache-system uses symlinks by default to efficiently store duplicated files but your machine does not support them in C:\\Users\\sagni\\.cache\\huggingface\\hub\\models--facebook--bart-large-mnli. Caching files will still work but in a degraded version that might require more space on your disk. This warning can be disabled by setting the `HF_HUB_DISABLE_SYMLINKS_WARNING` environment variable. For more details, see https://huggingface.co/docs/huggingface_hub/how-to-cache#limitations.\n",
      "To support symlinks on Windows, you either need to activate Developer Mode or to run Python as an administrator. In order to activate developer mode, see this article: https://docs.microsoft.com/en-us/windows/apps/get-started/enable-your-device-for-development\n",
      "  warnings.warn(message)\n"
     ]
    },
    {
     "name": "stdout",
     "output_type": "stream",
     "text": [
      "WARNING:tensorflow:From C:\\Users\\sagni\\AppData\\Local\\Programs\\Python\\Python311\\Lib\\site-packages\\tf_keras\\src\\losses.py:2976: The name tf.losses.sparse_softmax_cross_entropy is deprecated. Please use tf.compat.v1.losses.sparse_softmax_cross_entropy instead.\n",
      "\n"
     ]
    },
    {
     "name": "stderr",
     "output_type": "stream",
     "text": [
      "Xet Storage is enabled for this repo, but the 'hf_xet' package is not installed. Falling back to regular HTTP download. For better performance, install the package with: `pip install huggingface_hub[hf_xet]` or `pip install hf_xet`\n",
      "Device set to use cpu\n"
     ]
    }
   ],
   "source": [
    "from transformers import pipeline\n",
    "\n",
    "# Load zero-shot classification pipeline\n",
    "classifier = pipeline(\"zero-shot-classification\", model=\"facebook/bart-large-mnli\")\n",
    "\n",
    "def detect_subject(query):\n",
    "    \"\"\"\n",
    "    Use NLP to classify the subject of the question.\n",
    "    \"\"\"\n",
    "    labels = [\"math\", \"physics\"]\n",
    "    result = classifier(query, labels)\n",
    "    # Get label with highest score\n",
    "    return result['labels'][0]\n"
   ]
  },
  {
   "cell_type": "code",
   "execution_count": 3,
   "id": "f58f475a-2e78-4d8a-9429-940ac14ca400",
   "metadata": {},
   "outputs": [],
   "source": [
    "from sympy import symbols, diff, integrate, solve, limit, sympify, Eq\n",
    "import numpy as np\n",
    "\n",
    "class MathAgent:\n",
    "    def process(self, query):\n",
    "        x, y, z = symbols('x y z')\n",
    "        try:\n",
    "            query_lower = query.lower()\n",
    "\n",
    "            if \"derivative\" in query_lower or \"differentiate\" in query_lower:\n",
    "                expr = self.extract_expression(query)\n",
    "                derivative = diff(expr, x)\n",
    "                return f\"The derivative of {expr} is {derivative}\"\n",
    "            elif \"integral\" in query_lower or \"integrate\" in query_lower:\n",
    "                expr = self.extract_expression(query)\n",
    "                integral = integrate(expr, x)\n",
    "                return f\"The integral of {expr} is {integral} + C\"\n",
    "            elif \"solve\" in query_lower:\n",
    "                eq = self.extract_equation(query)\n",
    "                sol = solve(eq, x)\n",
    "                return f\"Solutions to {eq}: {sol}\"\n",
    "            elif \"limit\" in query_lower:\n",
    "                expr, point = self.extract_limit(query)\n",
    "                lim = limit(expr, x, point)\n",
    "                return f\"The limit of {expr} as x→{point} is {lim}\"\n",
    "            else:\n",
    "                return \"MathAgent: I can handle derivatives, integrals, limits, solving equations, and matrices.\"\n",
    "        except Exception as e:\n",
    "            return f\"MathAgent: Could not process your query. ({e})\"\n",
    "\n",
    "    def extract_expression(self, query):\n",
    "        \"\"\"\n",
    "        Extract mathematical expression from user query.\n",
    "        \"\"\"\n",
    "        parts = query.split(\"of\")\n",
    "        expr_str = parts[-1].strip()\n",
    "        return sympify(expr_str)\n",
    "\n",
    "    def extract_equation(self, query):\n",
    "        \"\"\"\n",
    "        Extracts equation from query text.\n",
    "        \"\"\"\n",
    "        if \"=\" in query:\n",
    "            lhs, rhs = query.split(\"=\")\n",
    "            return Eq(sympify(lhs), sympify(rhs))\n",
    "        else:\n",
    "            return Eq(sympify(query), 0)\n",
    "\n",
    "    def extract_limit(self, query):\n",
    "        \"\"\"\n",
    "        Extracts expression and point for limit.\n",
    "        Example: 'limit of sin(x)/x as x->0'\n",
    "        \"\"\"\n",
    "        expr_str = query.split(\"of\")[1].split(\"as\")[0].strip()\n",
    "        point_str = query.split(\"->\")[1].strip()\n",
    "        return sympify(expr_str), float(point_str)\n"
   ]
  },
  {
   "cell_type": "code",
   "execution_count": 4,
   "id": "cd44a3ab-bf3a-4847-a17f-007a3fcbf1b0",
   "metadata": {},
   "outputs": [],
   "source": [
    "from pint import UnitRegistry\n",
    "ureg = UnitRegistry()\n",
    "\n",
    "class PhysicsAgent:\n",
    "    def process(self, query):\n",
    "        query_lower = query.lower()\n",
    "\n",
    "        if \"law\" in query_lower or \"newton\" in query_lower:\n",
    "            return self.newton_laws(query_lower)\n",
    "        elif \"kinetic energy\" in query_lower:\n",
    "            return \"Kinetic energy formula: KE = ½mv². Example: A 2kg object moving at 3m/s has KE = 9J.\"\n",
    "        elif \"potential energy\" in query_lower:\n",
    "            return \"Potential energy formula: PE = mgh. Example: A 5kg object at 10m height has PE = 490J.\"\n",
    "        elif \"force\" in query_lower and \"mass\" in query_lower and \"acceleration\" in query_lower:\n",
    "            mass = self.extract_value(query, \"mass\")\n",
    "            acc = self.extract_value(query, \"acceleration\")\n",
    "            F = mass * acc\n",
    "            return f\"Force = {F} N (using F=ma)\"\n",
    "        else:\n",
    "            return \"PhysicsAgent: I can explain physical laws and solve numeric problems.\"\n",
    "\n",
    "    def extract_value(self, text, key):\n",
    "        try:\n",
    "            for word in text.split():\n",
    "                if key in word and \"=\" in word:\n",
    "                    value_str = word.split(\"=\")[1]\n",
    "                    return ureg.Quantity(value_str).to_base_units().magnitude\n",
    "        except:\n",
    "            return None\n",
    "\n",
    "    def newton_laws(self, query):\n",
    "        if \"first\" in query or \"1st\" in query:\n",
    "            return \"Newton's 1st Law: Objects remain in their state unless acted upon by external force.\"\n",
    "        elif \"second\" in query or \"2nd\" in query:\n",
    "            return \"Newton's 2nd Law: F = m*a. The net force is proportional to acceleration.\"\n",
    "        elif \"third\" in query or \"3rd\" in query:\n",
    "            return \"Newton's 3rd Law: Every action has an equal and opposite reaction.\"\n",
    "        else:\n",
    "            return (\n",
    "                \"Newton's Laws of Motion:\\n\"\n",
    "                \"1️⃣ Inertia\\n2️⃣ F=ma\\n3️⃣ Action-Reaction pairs\"\n",
    "            )\n"
   ]
  },
  {
   "cell_type": "code",
   "execution_count": 9,
   "id": "16acdab6-d480-4d4f-9103-6773004ac36b",
   "metadata": {},
   "outputs": [],
   "source": [
    "class TutorAgent:\n",
    "    def __init__(self):\n",
    "        self.math_agent = MathAgent()\n",
    "        self.physics_agent = PhysicsAgent()\n",
    "\n",
    "    def handle_request(self, query):\n",
    "        subject = detect_subject(query)\n",
    "        if subject == \"math\":\n",
    "            return self.math_agent.process(query)\n",
    "        elif subject == \"physics\":\n",
    "            return self.physics_agent.process(query)\n",
    "        else:\n",
    "            return \"TutorAgent: I don’t know how to handle this question yet.\"\n"
   ]
  },
  {
   "cell_type": "code",
   "execution_count": null,
   "id": "cee14657-ff5a-436f-b374-7d562e4c870c",
   "metadata": {},
   "outputs": [
    {
     "name": "stdout",
     "output_type": "stream",
     "text": [
      "📚 TutorAgent Ready! Ask me any Math or Physics question. (Type 'exit' to quit)\n"
     ]
    },
    {
     "name": "stdin",
     "output_type": "stream",
     "text": [
      "You:  2nd law of motion\n"
     ]
    },
    {
     "name": "stdout",
     "output_type": "stream",
     "text": [
      "PhysicsAgent: I can explain concepts and solve numerical problems.\n"
     ]
    }
   ],
   "source": [
    "tutor = TutorAgent()\n",
    "\n",
    "print(\"📚 TutorAgent Ready! Ask me any Math or Physics question. (Type 'exit' to quit)\")\n",
    "while True:\n",
    "    user_input = input(\"You: \")\n",
    "    if user_input.lower() in [\"exit\", \"quit\"]:\n",
    "        print(\"TutorAgent: Goodbye! 👋\")\n",
    "        break\n",
    "    response = tutor.handle_request(user_input)\n",
    "    print(response)\n"
   ]
  },
  {
   "cell_type": "code",
   "execution_count": null,
   "id": "e34cb358-9db9-4082-939a-25e0f60e3d3b",
   "metadata": {},
   "outputs": [],
   "source": []
  }
 ],
 "metadata": {
  "kernelspec": {
   "display_name": "Python 3 (ipykernel)",
   "language": "python",
   "name": "python3"
  },
  "language_info": {
   "codemirror_mode": {
    "name": "ipython",
    "version": 3
   },
   "file_extension": ".py",
   "mimetype": "text/x-python",
   "name": "python",
   "nbconvert_exporter": "python",
   "pygments_lexer": "ipython3",
   "version": "3.11.9"
  }
 },
 "nbformat": 4,
 "nbformat_minor": 5
}
